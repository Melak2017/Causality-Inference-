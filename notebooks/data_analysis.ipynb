{
 "cells": [
  {
   "cell_type": "markdown",
   "id": "9c2f8e70",
   "metadata": {},
   "source": [
    "# <font color='saddlebrown'>Explanatory Data Analysis</font>"
   ]
  },
  {
   "cell_type": "markdown",
   "id": "f026fd0b",
   "metadata": {},
   "source": [
    "***\n",
    "***"
   ]
  },
  {
   "cell_type": "markdown",
   "id": "843513f0",
   "metadata": {},
   "source": [
    "### <font color='saddlebrown'>Import packages</font>"
   ]
  },
  {
   "cell_type": "code",
   "execution_count": 15,
   "id": "8aa3757b",
   "metadata": {},
   "outputs": [],
   "source": [
    "# Ignore Warnings\n",
    "import warnings\n",
    "warnings.filterwarnings(\"ignore\")\n",
    "\n",
    "#for easy access to path\n",
    "import os\n",
    "import sys\n",
    "\n",
    "#importing packages for data manuplation and visualization\n",
    "import numpy as np\n",
    "import pandas as pd\n",
    "\n",
    "# Visualization\n",
    "import seaborn as sns\n",
    "import matplotlib.pyplot as plt\n",
    "from IPython.display import Image\n",
    "from IPython.display import Markdown, display, Image, display_html\n",
    "from scipy.stats import skew\n",
    "\n",
    "import matplotlib.pyplot as plt\n",
    "from IPython.display import Image\n",
    "from IPython.display import Markdown, display, Image, display_html\n",
    "from scipy.stats import skew\n",
    "\n",
    "\n",
    "# Visualization df\n",
    "sns.set()\n",
    "%matplotlib inline\n",
    "warnings.filterwarnings(\"ignore\")\n",
    "pd.set_option('display.max_columns', None)\n",
    "pd.set_option('display.max_colwidth', None)\n",
    "\n",
    "sys.path.append(os.path.abspath(os.path.join('../data')))"
   ]
  },
  {
   "cell_type": "code",
   "execution_count": 11,
   "id": "0425cade",
   "metadata": {},
   "outputs": [],
   "source": [
    "sys.path.append(os.path.abspath(os.path.join('../scripts')))"
   ]
  },
  {
   "cell_type": "code",
   "execution_count": 3,
   "id": "7ece8861",
   "metadata": {},
   "outputs": [],
   "source": [
    "df = pd.read_csv(\"../data/clean_data.csv\")"
   ]
  },
  {
   "cell_type": "code",
   "execution_count": 22,
   "id": "ef09acee",
   "metadata": {},
   "outputs": [],
   "source": [
    "import plots  as plot"
   ]
  },
  {
   "cell_type": "code",
   "execution_count": 4,
   "id": "b32eea1b",
   "metadata": {},
   "outputs": [
    {
     "data": {
      "text/plain": [
       "B    357\n",
       "M    212\n",
       "Name: diagnosis, dtype: int64"
      ]
     },
     "execution_count": 4,
     "metadata": {},
     "output_type": "execute_result"
    }
   ],
   "source": [
    "# unique value counts\n",
    "counts_df = df['diagnosis'].value_counts()\n",
    "counts_df"
   ]
  },
  {
   "cell_type": "markdown",
   "id": "a3313a6b",
   "metadata": {},
   "source": [
    "> `357` were Benign while `212` were Malignan.\n"
   ]
  },
  {
   "cell_type": "markdown",
   "id": "241a524d",
   "metadata": {},
   "source": [
    "### <font color='saddlebrown'>Univariate Analysis</font>"
   ]
  },
  {
   "cell_type": "code",
   "execution_count": 37,
   "id": "6db442ef",
   "metadata": {},
   "outputs": [
    {
     "data": {
      "image/png": "[encoded data removed]",
      "text/plain": [
       "<Figure size 864x504 with 1 Axes>"
      ]
     },
     "metadata": {
      "needs_background": "light"
     },
     "output_type": "display_data"
    }
   ],
   "source": [
    "plot.plot_count(df, 'diagnosis', \"Diagnosis\", \"Diagnosis Count\")"
   ]
  },
  {
   "cell_type": "code",
   "execution_count": null,
   "id": "292d8689",
   "metadata": {},
   "outputs": [],
   "source": []
  }
 ],
 "metadata": {
  "kernelspec": {
   "display_name": "Python 3 (ipykernel)",
   "language": "python",
   "name": "python3"
  },
  "language_info": {
   "codemirror_mode": {
    "name": "ipython",
    "version": 3
   },
   "file_extension": ".py",
   "mimetype": "text/x-python",
   "name": "python",
   "nbconvert_exporter": "python",
   "pygments_lexer": "ipython3",
   "version": "3.9.12"
  }
 },
 "nbformat": 4,
 "nbformat_minor": 5
}
